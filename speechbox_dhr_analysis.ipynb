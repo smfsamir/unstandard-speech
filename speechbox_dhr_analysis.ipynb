{
 "cells": [
  {
   "cell_type": "markdown",
   "metadata": {},
   "source": [
    "# Introduction \n",
    "\n",
    "In June 2020, researchers at Meta released the Wav2Vec2 model, using a BERT-like self-supervised representation learning method. At a high-level, this includes a large-scale self-supervised pretraining phase, followed by supervised finetuning on a smaller dataset. The model was trained on the LibriSpeech dataset, a corpus of English-read speech. There is little information about the demogrpahic backgrounds of the speakers. It is probably safe to assume that they fit characteristics of the imagined native English speaker. Indeed, the model achives the best performance on monolingual English speakers (see Figure below). Under this presumable demographic composition, the model is unlikely to achieve comparable performance for bilingual speakers, especially those who speak a different first language. \n",
    "\n",
    "Almost exactly three years later, Meta released the MMS model, which contends to scale Speech Technology to 1,000+ Languages. This statement implies a sort of capture... [TO DO]. This conceptual model clearly does not work, as the model still struggles to capture English speech from bilingual speakers, still obtaining high error rates especially for [X], [X], and [X] backgrounds. On this dataset, the error rates between the models remain highly correlated. \n"
   ]
  },
  {
   "cell_type": "markdown",
   "metadata": {},
   "source": [
    "# SpeechBox dataset\n",
    "## Backgrounds"
   ]
  },
  {
   "cell_type": "code",
   "execution_count": 2,
   "metadata": {},
   "outputs": [],
   "source": [
    "CODE_2_BACKGROUNDS = {\n",
    "    \"CCT\": \"Cantonese\", \n",
    "    \"CMN\": \"Mandarin, Mainland\", \n",
    "    \"CSP\": \"Mandarin, Singaporean\", \n",
    "    \"CTW\": \"Mandarin, Taiwanese\", \n",
    "    \"ENG\": \"English\",\n",
    "    \"FAR\": \"Farsi\", \n",
    "    \"FRA\": \"French\", \n",
    "    \"GER\": \"German\", \n",
    "    \"GIS\": \"Gishu\", \n",
    "    \"GRE\": \"Greek\", \n",
    "    \"GUJ\": \"Gujurati\", \n",
    "    \"HEB\": \"Hebrew\", \n",
    "    \"HIN\": \"Hindi\",\n",
    "    \"ICE\": \"Icelandic\", \n",
    "    \"IND\": \"Indonesian\", \n",
    "    \"JPN\": \"Japanese\", \n",
    "    \"KOR\": \"Korean\", \n",
    "    \"MLY\": \"Malay\",\n",
    "    \"PBR\": \"Brazilian Portuguese\", \n",
    "    \"RUN\": \"Runyankore\", \n",
    "    \"RUS\": \"Russian\", \n",
    "    \"SHS\": \"Spanish Heritage Speakers\", \n",
    "    \"SPA\": \"Spanish\", \n",
    "    \"THA\": \"Thai\", \n",
    "    \"TUR\": \"Turkish\", \n",
    "    \"VIE\": \"Vietnamese\"\n",
    "}"
   ]
  },
  {
   "cell_type": "markdown",
   "metadata": {},
   "source": [
    "## Example samples"
   ]
  },
  {
   "cell_type": "code",
   "execution_count": 3,
   "metadata": {},
   "outputs": [],
   "source": [
    "import math\n",
    "import numpy as np\n",
    "import librosa\n",
    "from praatio import textgrid\n",
    "import os\n",
    "from pathlib import Path\n",
    "import IPython.display as ipd\n",
    "\n",
    "TARGET_SAMPLING_RATE=16000\n",
    "\n",
    "backgrounds_slices = []\n",
    "for dirname in list(filter(lambda x: x.endswith(\"DHR\"), os.listdir(\"allsstar/2152\"))):\n",
    "    speechbox_subdir = f\"allsstar/2152/{dirname}\"\n",
    "    identifiers = set([Path(dir_fname).stem for dir_fname in os.listdir(speechbox_subdir)])\n",
    "    for identifier in identifiers:\n",
    "        tg = textgrid.openTextgrid(f\"{speechbox_subdir}/{identifier}.TextGrid\", False)\n",
    "        nid = identifier.split('_')[1]\n",
    "        entries = tg.getTier('utt').entries\n",
    "        data, _ = librosa.load(f\"{speechbox_subdir}/{identifier}.wav\", sr=TARGET_SAMPLING_RATE, dtype=np.float64)\n",
    "        for i in range(len(entries)):\n",
    "            first_interval_start, first_interval_end = entries[i].start, entries[i].end\n",
    "            label = entries[i].label\n",
    "            slice = data[math.floor(first_interval_start * TARGET_SAMPLING_RATE): math.ceil(first_interval_end * TARGET_SAMPLING_RATE)]\n",
    "            background = identifier.split('_')[3]\n",
    "            backgrounds_slices.append((background, slice))\n",
    "            break\n",
    "        break"
   ]
  },
  {
   "cell_type": "code",
   "execution_count": 4,
   "metadata": {},
   "outputs": [
    {
     "data": {
      "text/plain": [
       "('FAR',\n",
       " array([-3.95128913e-04, -2.07015174e-04, -2.54885925e-04, ...,\n",
       "         5.77361153e-06,  1.11512716e-04,  1.54265177e-04]))"
      ]
     },
     "execution_count": 4,
     "metadata": {},
     "output_type": "execute_result"
    }
   ],
   "source": [
    "backgrounds_slices[0]"
   ]
  },
  {
   "cell_type": "code",
   "execution_count": 5,
   "metadata": {},
   "outputs": [
    {
     "data": {
      "application/vnd.jupyter.widget-view+json": {
       "model_id": "43a31f8e02254ab6b166149db3c3499a",
       "version_major": 2,
       "version_minor": 0
      },
      "text/plain": [
       "Output(layout=Layout(border_bottom='1px solid black', border_left='1px solid black', border_right='1px solid b…"
      ]
     },
     "execution_count": 5,
     "metadata": {},
     "output_type": "execute_result"
    }
   ],
   "source": [
    "import ipywidgets as widgets\n",
    "# print(\"hello\")\n",
    "# ipd.display(ipd.Audio(slices[0], rate=16000))\n",
    "# print(\"hello\")\n",
    "# ipd.display(ipd.Audio(slices[1], rate=16000))\n",
    "out = widgets.Output(layout={'border': '1px solid black'})\n",
    "for i in range(len(backgrounds_slices)):\n",
    "    out.append_stdout(f\"{CODE_2_BACKGROUNDS[backgrounds_slices[i][0]]}\")\n",
    "    out.append_display_data(ipd.Audio(backgrounds_slices[i][1], rate=16000))\n",
    "out\n",
    "# ipd.Audio(slices[0], rate=16000)\n",
    "# ipd.Audio(slices[1], rate=16000)"
   ]
  },
  {
   "cell_type": "code",
   "execution_count": 6,
   "metadata": {},
   "outputs": [
    {
     "name": "stderr",
     "output_type": "stream",
     "text": [
      "/Users/smfsamir/mac_env/lib/python3.8/site-packages/transformers/utils/generic.py:311: UserWarning: torch.utils._pytree._register_pytree_node is deprecated. Please use torch.utils._pytree.register_pytree_node instead.\n",
      "  torch.utils._pytree._register_pytree_node(\n"
     ]
    }
   ],
   "source": [
    "import polars as pl\n",
    "from evaluate import load"
   ]
  },
  {
   "cell_type": "code",
   "execution_count": 7,
   "metadata": {},
   "outputs": [],
   "source": [
    "from jiwer import wer\n",
    "import string\n",
    "\n",
    "def add_wer_column(frame):\n",
    "    translator = str.maketrans('', '', string.punctuation)\n",
    "    return frame.with_columns([\n",
    "        pl.struct(['transcription_prediction', 'gt_transcript'])\\\n",
    "            .map_elements(lambda row: wer(\n",
    "                row['gt_transcript'].lower().translate(translator),\n",
    "                row['transcription_prediction'].lower().translate(translator)\n",
    "            )).alias('wer')\n",
    "    ])"
   ]
  },
  {
   "cell_type": "code",
   "execution_count": 8,
   "metadata": {},
   "outputs": [
    {
     "data": {
      "image/png": "[encoded data removed]",
      "text/plain": [
       "<Figure size 640x480 with 1 Axes>"
      ]
     },
     "metadata": {},
     "output_type": "display_data"
    }
   ],
   "source": [
    "import matplotlib.pyplot as plt\n",
    "import seaborn as sns\n",
    "from scipy.stats import kendalltau, spearmanr, pearsonr\n",
    "\n",
    "def preprocess_frame(frame):\n",
    "    frame = add_wer_column(frame)\n",
    "    return frame.filter(pl.col('cer') < 0.5) # probably a transcript alignment problem\n",
    "wavlm_frame = preprocess_frame(pl.read_csv('wavlm_speechbox_dhr_frame.tsv', separator='\\t'))\n",
    "mms_frame = preprocess_frame(pl.read_csv('mms_speechbox_dhr_frame.tsv', separator='\\t'))\n",
    "whisper_frame = preprocess_frame(pl.read_csv('whisper_speechbox_dhr_frame.tsv', separator='\\t'))\n",
    "\n",
    "\n",
    "def get_sorted_worst_backgrounds(frame):\n",
    "    return frame.group_by(pl.col('background')).agg(pl.col('cer').median()).sort('cer', descending=False)['background'].to_list()\n",
    "\n",
    "def convert_to_indices(backgrounds):\n",
    "    alphabetical = sorted(backgrounds)\n",
    "    actual_order = [alphabetical.index(background) for background in backgrounds]\n",
    "    return actual_order\n",
    "\n",
    "def add_model_name_column(frame, model_name):\n",
    "    return frame.with_columns(\n",
    "        pl.lit(model_name).alias('model_name')\n",
    "    )\n",
    "\n",
    "wavlm_worst = get_sorted_worst_backgrounds(wavlm_frame)\n",
    "mms_worst = get_sorted_worst_backgrounds(mms_frame)\n",
    "whisper_worst = get_sorted_worst_backgrounds(whisper_frame)\n",
    "vis_frame = pl.concat([\n",
    "    add_model_name_column(mms_frame, 'mms'), \n",
    "    add_model_name_column(wavlm_frame, 'wavlm')\n",
    "    ])\n",
    "# print(kendalltau(mms_worst, wavlm_worst))\n",
    "\n",
    "sns.boxplot(vis_frame, x='background', y='cer', hue='model_name', order=(wavlm_worst))\n",
    "plt.xticks(rotation=30)\n",
    "plt.tight_layout()"
   ]
  },
  {
   "cell_type": "code",
   "execution_count": 9,
   "metadata": {},
   "outputs": [
    {
     "name": "stdout",
     "output_type": "stream",
     "text": [
      "MMS-WavLM CER Pearson correlation: 0.745\n"
     ]
    }
   ],
   "source": [
    "joined = mms_frame.join(wavlm_frame, on=['nid', 'timestamp'], suffix='_wavlm')\n",
    "pearson = pearsonr(joined['cer'], joined['cer_wavlm'])\n",
    "print(f\"MMS-WavLM CER Pearson correlation: {pearson.statistic:.3f}\")"
   ]
  },
  {
   "cell_type": "code",
   "execution_count": 20,
   "metadata": {},
   "outputs": [
    {
     "data": {
      "text/html": [
       "<div><style>\n",
       ".dataframe > thead > tr > th,\n",
       ".dataframe > tbody > tr > td {\n",
       "  text-align: right;\n",
       "  white-space: pre-wrap;\n",
       "}\n",
       "</style>\n",
       "<small>shape: (2_654, 14)</small><table border=\"1\" class=\"dataframe\"><thead><tr><th>timestamp</th><th>gender</th><th>transcription_prediction</th><th>background</th><th>gt_transcript</th><th>nid</th><th>cer</th><th>wer</th><th>gender_wavlm</th><th>transcription_prediction_wavlm</th><th>background_wavlm</th><th>gt_transcript_wavlm</th><th>cer_wavlm</th><th>wer_wavlm</th></tr><tr><td>str</td><td>str</td><td>str</td><td>str</td><td>str</td><td>i64</td><td>f64</td><td>f64</td><td>str</td><td>str</td><td>str</td><td>str</td><td>f64</td><td>f64</td></tr></thead><tbody><tr><td>&quot;00:00.183000-0…</td><td>&quot;M&quot;</td><td>&quot;no one shall b…</td><td>&quot;SPA&quot;</td><td>&quot;no one shall b…</td><td>123</td><td>0.0</td><td>0.0</td><td>&quot;M&quot;</td><td>&quot;NO ONE SHALL B…</td><td>&quot;SPA&quot;</td><td>&quot;no one shall b…</td><td>0.010753</td><td>0.125</td></tr><tr><td>&quot;00:07.878000-0…</td><td>&quot;M&quot;</td><td>&quot;everyone has t…</td><td>&quot;SPA&quot;</td><td>&quot;everyone has t…</td><td>123</td><td>0.0</td><td>0.0</td><td>&quot;M&quot;</td><td>&quot;EVERYONE HAS T…</td><td>&quot;SPA&quot;</td><td>&quot;everyone has t…</td><td>0.0</td><td>0.0</td></tr><tr><td>&quot;00:12.879000-0…</td><td>&quot;M&quot;</td><td>&quot;everyone has t…</td><td>&quot;SPA&quot;</td><td>&quot;everyone has t…</td><td>123</td><td>0.07377</td><td>0.157895</td><td>&quot;M&quot;</td><td>&quot;EVERYONE HAS T…</td><td>&quot;SPA&quot;</td><td>&quot;everyone has t…</td><td>0.02459</td><td>0.052632</td></tr><tr><td>&quot;00:21.564000-0…</td><td>&quot;M&quot;</td><td>&quot;everyone has t…</td><td>&quot;SPA&quot;</td><td>&quot;everyone has t…</td><td>123</td><td>0.0</td><td>0.0</td><td>&quot;M&quot;</td><td>&quot;EVERYONE HAS T…</td><td>&quot;SPA&quot;</td><td>&quot;everyone has t…</td><td>0.0</td><td>0.0</td></tr><tr><td>&quot;00:26.580000-0…</td><td>&quot;M&quot;</td><td>&quot;every one has …</td><td>&quot;SPA&quot;</td><td>&quot;everyone has t…</td><td>123</td><td>0.011111</td><td>0.117647</td><td>&quot;M&quot;</td><td>&quot;EVERY ONE HAS …</td><td>&quot;SPA&quot;</td><td>&quot;everyone has t…</td><td>0.011111</td><td>0.117647</td></tr><tr><td>&quot;00:32.802000-0…</td><td>&quot;M&quot;</td><td>&quot;everyone has t…</td><td>&quot;SPA&quot;</td><td>&quot;everyone has t…</td><td>123</td><td>0.0</td><td>0.0</td><td>&quot;M&quot;</td><td>&quot;EVERY ONE HAS …</td><td>&quot;SPA&quot;</td><td>&quot;everyone has t…</td><td>0.025641</td><td>0.285714</td></tr><tr><td>&quot;00:35.647000-0…</td><td>&quot;M&quot;</td><td>&quot;no one shall b…</td><td>&quot;SPA&quot;</td><td>&quot;no one shall b…</td><td>123</td><td>0.0</td><td>0.0</td><td>&quot;M&quot;</td><td>&quot;NO ONE SHALL B…</td><td>&quot;SPA&quot;</td><td>&quot;no one shall b…</td><td>0.0</td><td>0.0</td></tr><tr><td>&quot;00:39.340000-0…</td><td>&quot;M&quot;</td><td>&quot;everyone has t…</td><td>&quot;SPA&quot;</td><td>&quot;everyone has t…</td><td>123</td><td>0.0</td><td>0.0</td><td>&quot;M&quot;</td><td>&quot;EVERY ONE HAS …</td><td>&quot;SPA&quot;</td><td>&quot;everyone has t…</td><td>0.02439</td><td>0.2</td></tr><tr><td>&quot;00:45.246000-0…</td><td>&quot;M&quot;</td><td>&quot;everyone has t…</td><td>&quot;SPA&quot;</td><td>&quot;everyone has t…</td><td>123</td><td>0.0</td><td>0.0</td><td>&quot;M&quot;</td><td>&quot;EVERY ONE HAS …</td><td>&quot;SPA&quot;</td><td>&quot;everyone has t…</td><td>0.043956</td><td>0.235294</td></tr><tr><td>&quot;00:51.059000-0…</td><td>&quot;M&quot;</td><td>&quot;no one shall b…</td><td>&quot;SPA&quot;</td><td>&quot;no one shall b…</td><td>123</td><td>0.009804</td><td>0.058824</td><td>&quot;M&quot;</td><td>&quot;NO ONE SHALL B…</td><td>&quot;SPA&quot;</td><td>&quot;no one shall b…</td><td>0.019608</td><td>0.117647</td></tr><tr><td>&quot;00:57.820000-0…</td><td>&quot;M&quot;</td><td>&quot;everyone witho…</td><td>&quot;SPA&quot;</td><td>&quot;everyone witho…</td><td>123</td><td>0.0</td><td>0.0</td><td>&quot;M&quot;</td><td>&quot;EVERY ONE WITH…</td><td>&quot;SPA&quot;</td><td>&quot;everyone witho…</td><td>0.012987</td><td>0.153846</td></tr><tr><td>&quot;01:03.536000-0…</td><td>&quot;M&quot;</td><td>&quot;everyone is en…</td><td>&quot;SPA&quot;</td><td>&quot;everyone is en…</td><td>123</td><td>0.014184</td><td>0.083333</td><td>&quot;M&quot;</td><td>&quot;EVERY ONE IS E…</td><td>&quot;SPA&quot;</td><td>&quot;everyone is en…</td><td>0.021277</td><td>0.166667</td></tr><tr><td>&hellip;</td><td>&hellip;</td><td>&hellip;</td><td>&hellip;</td><td>&hellip;</td><td>&hellip;</td><td>&hellip;</td><td>&hellip;</td><td>&hellip;</td><td>&hellip;</td><td>&hellip;</td><td>&hellip;</td><td>&hellip;</td><td>&hellip;</td></tr><tr><td>&quot;00:59.346000-0…</td><td>&quot;M&quot;</td><td>&quot;everyone has t…</td><td>&quot;RUN&quot;</td><td>&quot;everyone has t…</td><td>116</td><td>0.0</td><td>0.0</td><td>&quot;M&quot;</td><td>&quot;EUVURON HAS TH…</td><td>&quot;RUN&quot;</td><td>&quot;everyone has t…</td><td>0.043956</td><td>0.058824</td></tr><tr><td>&quot;01:06.537000-0…</td><td>&quot;M&quot;</td><td>&quot;no one shall b…</td><td>&quot;RUN&quot;</td><td>&quot;no one shall b…</td><td>116</td><td>0.068627</td><td>0.235294</td><td>&quot;M&quot;</td><td>&quot;NO ONE SHALL B…</td><td>&quot;RUN&quot;</td><td>&quot;no one shall b…</td><td>0.039216</td><td>0.117647</td></tr><tr><td>&quot;01:15.470000-0…</td><td>&quot;M&quot;</td><td>&quot;everyone witho…</td><td>&quot;RUN&quot;</td><td>&quot;everyone witho…</td><td>116</td><td>0.025974</td><td>0.153846</td><td>&quot;M&quot;</td><td>&quot;EVERYONE WITHO…</td><td>&quot;RUN&quot;</td><td>&quot;everyone witho…</td><td>0.168831</td><td>0.384615</td></tr><tr><td>&quot;01:22.714000-0…</td><td>&quot;M&quot;</td><td>&quot;everyone is en…</td><td>&quot;RUN&quot;</td><td>&quot;everyone is en…</td><td>116</td><td>0.0</td><td>0.0</td><td>&quot;M&quot;</td><td>&quot;EVERYONE IS EN…</td><td>&quot;RUN&quot;</td><td>&quot;everyone is en…</td><td>0.035461</td><td>0.083333</td></tr><tr><td>&quot;01:35.655000-0…</td><td>&quot;M&quot;</td><td>&quot;evriwan haz di…</td><td>&quot;RUN&quot;</td><td>&quot;everyone has t…</td><td>116</td><td>0.360656</td><td>0.909091</td><td>&quot;M&quot;</td><td>&quot;EVERYONE HAS T…</td><td>&quot;RUN&quot;</td><td>&quot;everyone has t…</td><td>0.098361</td><td>0.181818</td></tr><tr><td>&quot;01:41.783000-0…</td><td>&quot;M&quot;</td><td>&quot;everyone has t…</td><td>&quot;RUN&quot;</td><td>&quot;everyone has t…</td><td>116</td><td>0.0</td><td>0.0</td><td>&quot;M&quot;</td><td>&quot;EVERY ONE HAS …</td><td>&quot;RUN&quot;</td><td>&quot;everyone has t…</td><td>0.014085</td><td>0.153846</td></tr><tr><td>&quot;01:47.402000-0…</td><td>&quot;M&quot;</td><td>&quot;parents have a…</td><td>&quot;RUN&quot;</td><td>&quot;parents have a…</td><td>116</td><td>0.052083</td><td>0.222222</td><td>&quot;M&quot;</td><td>&quot;PARENTS AV A P…</td><td>&quot;RUN&quot;</td><td>&quot;parents have a…</td><td>0.135417</td><td>0.388889</td></tr><tr><td>&quot;01:53.693000-0…</td><td>&quot;M&quot;</td><td>&quot;nothing in thi…</td><td>&quot;RUN&quot;</td><td>&quot;nothing in thi…</td><td>116</td><td>0.0</td><td>0.0</td><td>&quot;M&quot;</td><td>&quot;NOTHING IN THI…</td><td>&quot;RUN&quot;</td><td>&quot;nothing in thi…</td><td>0.0</td><td>0.0</td></tr><tr><td>&quot;02:12.832000-0…</td><td>&quot;M&quot;</td><td>&quot;no one may be …</td><td>&quot;RUN&quot;</td><td>&quot;no one may be …</td><td>116</td><td>0.078431</td><td>0.2</td><td>&quot;M&quot;</td><td>&quot;NO ONE MAY BE …</td><td>&quot;RUN&quot;</td><td>&quot;no one may be …</td><td>0.058824</td><td>0.2</td></tr><tr><td>&quot;02:17.419000-0…</td><td>&quot;M&quot;</td><td>&quot;no one shall b…</td><td>&quot;RUN&quot;</td><td>&quot;no one shall b…</td><td>116</td><td>0.009009</td><td>0.047619</td><td>&quot;M&quot;</td><td>&quot;NO ONE SHALL B…</td><td>&quot;RUN&quot;</td><td>&quot;no one shall b…</td><td>0.054054</td><td>0.238095</td></tr><tr><td>&quot;02:29.268000-0…</td><td>&quot;M&quot;</td><td>&quot;everyone has t…</td><td>&quot;RUN&quot;</td><td>&quot;everyone has t…</td><td>116</td><td>0.032609</td><td>0.0625</td><td>&quot;M&quot;</td><td>&quot;EVERYONE HAS T…</td><td>&quot;RUN&quot;</td><td>&quot;everyone has t…</td><td>0.043478</td><td>0.125</td></tr><tr><td>&quot;02:36.022000-0…</td><td>&quot;M&quot;</td><td>&quot;no an shal bi …</td><td>&quot;RUN&quot;</td><td>&quot;no one shall b…</td><td>116</td><td>0.140625</td><td>0.545455</td><td>&quot;M&quot;</td><td>&quot;NO ONE SHALL B…</td><td>&quot;RUN&quot;</td><td>&quot;no one shall b…</td><td>0.0625</td><td>0.272727</td></tr></tbody></table></div>"
      ],
      "text/plain": [
       "shape: (2_654, 14)\n",
       "┌────────────┬────────┬────────────┬───────────┬───┬───────────┬───────────┬───────────┬───────────┐\n",
       "│ timestamp  ┆ gender ┆ transcript ┆ backgroun ┆ … ┆ backgroun ┆ gt_transc ┆ cer_wavlm ┆ wer_wavlm │\n",
       "│ ---        ┆ ---    ┆ ion_predic ┆ d         ┆   ┆ d_wavlm   ┆ ript_wavl ┆ ---       ┆ ---       │\n",
       "│ str        ┆ str    ┆ tion       ┆ ---       ┆   ┆ ---       ┆ m         ┆ f64       ┆ f64       │\n",
       "│            ┆        ┆ ---        ┆ str       ┆   ┆ str       ┆ ---       ┆           ┆           │\n",
       "│            ┆        ┆ str        ┆           ┆   ┆           ┆ str       ┆           ┆           │\n",
       "╞════════════╪════════╪════════════╪═══════════╪═══╪═══════════╪═══════════╪═══════════╪═══════════╡\n",
       "│ 00:00.1830 ┆ M      ┆ no one     ┆ SPA       ┆ … ┆ SPA       ┆ no one    ┆ 0.010753  ┆ 0.125     │\n",
       "│ 00-00:07.5 ┆        ┆ shall be   ┆           ┆   ┆           ┆ shall be  ┆           ┆           │\n",
       "│ 53000      ┆        ┆ subjected  ┆           ┆   ┆           ┆ subjected ┆           ┆           │\n",
       "│            ┆        ┆ to tor…    ┆           ┆   ┆           ┆ to tor…   ┆           ┆           │\n",
       "│ 00:07.8780 ┆ M      ┆ everyone   ┆ SPA       ┆ … ┆ SPA       ┆ everyone  ┆ 0.0       ┆ 0.0       │\n",
       "│ 00-00:12.4 ┆        ┆ has the    ┆           ┆   ┆           ┆ has the   ┆           ┆           │\n",
       "│ 58000      ┆        ┆ right to   ┆           ┆   ┆           ┆ right to  ┆           ┆           │\n",
       "│            ┆        ┆ freedo…    ┆           ┆   ┆           ┆ freedo…   ┆           ┆           │\n",
       "│ 00:12.8790 ┆ M      ┆ everyone   ┆ SPA       ┆ … ┆ SPA       ┆ everyone  ┆ 0.02459   ┆ 0.052632  │\n",
       "│ 00-00:21.1 ┆        ┆ has the    ┆           ┆   ┆           ┆ has the   ┆           ┆           │\n",
       "│ 19000      ┆        ┆ right to   ┆           ┆   ┆           ┆ right to  ┆           ┆           │\n",
       "│            ┆        ┆ rest i…    ┆           ┆   ┆           ┆ rest a…   ┆           ┆           │\n",
       "│ 00:21.5640 ┆ M      ┆ everyone   ┆ SPA       ┆ … ┆ SPA       ┆ everyone  ┆ 0.0       ┆ 0.0       │\n",
       "│ 00-00:26.2 ┆        ┆ has the    ┆           ┆   ┆           ┆ has the   ┆           ┆           │\n",
       "│ 15000      ┆        ┆ right to   ┆           ┆   ┆           ┆ right to  ┆           ┆           │\n",
       "│            ┆        ┆ recogn…    ┆           ┆   ┆           ┆ recogn…   ┆           ┆           │\n",
       "│ …          ┆ …      ┆ …          ┆ …         ┆ … ┆ …         ┆ …         ┆ …         ┆ …         │\n",
       "│ 02:12.8320 ┆ M      ┆ no one may ┆ RUN       ┆ … ┆ RUN       ┆ no one    ┆ 0.058824  ┆ 0.2       │\n",
       "│ 00-02:16.8 ┆        ┆ be         ┆           ┆   ┆           ┆ may be    ┆           ┆           │\n",
       "│ 52000      ┆        ┆ compared   ┆           ┆   ┆           ┆ compelled ┆           ┆           │\n",
       "│            ┆        ┆ to belong… ┆           ┆   ┆           ┆ to belon… ┆           ┆           │\n",
       "│ 02:17.4190 ┆ M      ┆ no one     ┆ RUN       ┆ … ┆ RUN       ┆ no one    ┆ 0.054054  ┆ 0.238095  │\n",
       "│ 00-02:28.5 ┆        ┆ shall be   ┆           ┆   ┆           ┆ shall be  ┆           ┆           │\n",
       "│ 88000      ┆        ┆ held in    ┆           ┆   ┆           ┆ held in   ┆           ┆           │\n",
       "│            ┆        ┆ slavery …  ┆           ┆   ┆           ┆ slavery … ┆           ┆           │\n",
       "│ 02:29.2680 ┆ M      ┆ everyone   ┆ RUN       ┆ … ┆ RUN       ┆ everyone  ┆ 0.043478  ┆ 0.125     │\n",
       "│ 00-02:35.6 ┆        ┆ has the    ┆           ┆   ┆           ┆ has the   ┆           ┆           │\n",
       "│ 88000      ┆        ┆ right      ┆           ┆   ┆           ┆ right to  ┆           ┆           │\n",
       "│            ┆        ┆ freedom o… ┆           ┆   ┆           ┆ freedo…   ┆           ┆           │\n",
       "│ 02:36.0220 ┆ M      ┆ no an shal ┆ RUN       ┆ … ┆ RUN       ┆ no one    ┆ 0.0625    ┆ 0.272727  │\n",
       "│ 00-02:41.4 ┆        ┆ bi         ┆           ┆   ┆           ┆ shall be  ┆           ┆           │\n",
       "│ 22000      ┆        ┆ sobjekted  ┆           ┆   ┆           ┆ subjected ┆           ┆           │\n",
       "│            ┆        ┆ to arbit…  ┆           ┆   ┆           ┆ to arb…   ┆           ┆           │\n",
       "└────────────┴────────┴────────────┴───────────┴───┴───────────┴───────────┴───────────┴───────────┘"
      ]
     },
     "execution_count": 20,
     "metadata": {},
     "output_type": "execute_result"
    }
   ],
   "source": [
    "joined"
   ]
  },
  {
   "cell_type": "markdown",
   "metadata": {},
   "source": [
    "# Specific examples of bad transcriptions\n",
    "\n",
    "Here, we add 5 examples from each of the top 5 most badly transcribed dialect backgrounds."
   ]
  },
  {
   "cell_type": "code",
   "execution_count": 30,
   "metadata": {},
   "outputs": [
    {
     "name": "stdout",
     "output_type": "stream",
     "text": [
      "01:12.313000-01:21.013000\n",
      "01:37.982000-01:47.851000\n",
      "00:59.439000-01:11.668000\n",
      "00:53.563000-01:02.182000\n",
      "02:51.723000-02:59.752000\n"
     ]
    },
    {
     "data": {
      "application/vnd.jupyter.widget-view+json": {
       "model_id": "80dfa48542e04170b98d097fa99d1d12",
       "version_major": 2,
       "version_minor": 0
      },
      "text/plain": [
       "Output(layout=Layout(border_bottom='1px solid black', border_left='1px solid black', border_right='1px solid b…"
      ]
     },
     "metadata": {},
     "output_type": "display_data"
    },
    {
     "name": "stdout",
     "output_type": "stream",
     "text": [
      "00:20.315000-00:25.305000\n",
      "00:34.734000-00:37.754000\n",
      "01:46.698000-01:50.948000\n",
      "00:00.193000-00:06.652000\n",
      "00:49.493000-00:55.373000\n"
     ]
    },
    {
     "data": {
      "application/vnd.jupyter.widget-view+json": {
       "model_id": "e0f7b5ce2eff47edb61f8c30abe1ad39",
       "version_major": 2,
       "version_minor": 0
      },
      "text/plain": [
       "Output(layout=Layout(border_bottom='1px solid black', border_left='1px solid black', border_right='1px solid b…"
      ]
     },
     "metadata": {},
     "output_type": "display_data"
    },
    {
     "name": "stdout",
     "output_type": "stream",
     "text": [
      "00:54.070000-01:02.189000\n",
      "02:22.290000-02:29.410000\n",
      "01:47.843000-02:06.013000\n",
      "00:00.173000-00:08.372000\n",
      "02:29.926000-02:35.127000\n"
     ]
    },
    {
     "data": {
      "application/vnd.jupyter.widget-view+json": {
       "model_id": "70228649c97e44c9bffc68de4c791077",
       "version_major": 2,
       "version_minor": 0
      },
      "text/plain": [
       "Output(layout=Layout(border_bottom='1px solid black', border_left='1px solid black', border_right='1px solid b…"
      ]
     },
     "metadata": {},
     "output_type": "display_data"
    },
    {
     "name": "stdout",
     "output_type": "stream",
     "text": [
      "01:23.067000-01:28.007000\n",
      "01:33.660000-01:39.850000\n",
      "00:57.916000-01:04.515000\n",
      "00:40.536000-00:44.485000\n",
      "00:09.505000-00:14.674000\n"
     ]
    },
    {
     "data": {
      "application/vnd.jupyter.widget-view+json": {
       "model_id": "6ece02e35bec48c08b0d32aa163da8f1",
       "version_major": 2,
       "version_minor": 0
      },
      "text/plain": [
       "Output(layout=Layout(border_bottom='1px solid black', border_left='1px solid black', border_right='1px solid b…"
      ]
     },
     "metadata": {},
     "output_type": "display_data"
    },
    {
     "name": "stdout",
     "output_type": "stream",
     "text": [
      "01:15.470000-01:22.049000\n",
      "01:47.402000-01:52.901000\n",
      "01:35.655000-01:41.315000\n",
      "00:41.404000-00:44.815000\n",
      "00:26.762000-00:33.742000\n"
     ]
    },
    {
     "data": {
      "application/vnd.jupyter.widget-view+json": {
       "model_id": "5b17d2eca51e4380b2f3f615faadaa59",
       "version_major": 2,
       "version_minor": 0
      },
      "text/plain": [
       "Output(layout=Layout(border_bottom='1px solid black', border_left='1px solid black', border_right='1px solid b…"
      ]
     },
     "metadata": {},
     "output_type": "display_data"
    }
   ],
   "source": [
    "import math\n",
    "def convert_timestamps_to_sample_index(timestamp, sampling_rate=16000):\n",
    "    timestamp_mm = int(timestamp.split(':')[0])\n",
    "    timestamp_ss = timestamp.split(':')[1] # don't need hour marker\n",
    "\n",
    "    return (float(timestamp_mm * 60) + float(timestamp_ss)) * sampling_rate\n",
    "\n",
    "def convert_timestamp_to_sample_range(timestamp_full):\n",
    "    print(timestamp_full)\n",
    "    timestamp_start = timestamp_full.split(\"-\")[0]\n",
    "    timestamp_end = timestamp_full.split(\"-\")[1]\n",
    "    return (math.floor(convert_timestamps_to_sample_index(timestamp_start)), math.ceil(convert_timestamps_to_sample_index(timestamp_end)))\n",
    "\n",
    "def retrieve_recording(background: str, nid: int, timestamp):\n",
    "    background_dirs = list(filter(lambda x: x.endswith(f\"{background}_ENG_DHR\"), os.listdir(\"allsstar/2152\")))\n",
    "    assert len(background_dirs) == 1\n",
    "    background_dir = background_dirs[0]\n",
    "    speechbox_subdir = f\"allsstar/2152/{background_dir}\"\n",
    "    filenames = list(filter(lambda x: (str(nid) in x) and (x.endswith(\".wav\")), os.listdir(speechbox_subdir)))\n",
    "    assert len(filenames) == 1\n",
    "    filename = filenames[0]\n",
    "    data, _ = librosa.load(f\"{speechbox_subdir}/{filename}\", sr=TARGET_SAMPLING_RATE, dtype=np.float64)\n",
    "    sample_timestamp_start, sample_timestamp_end = convert_timestamp_to_sample_range(timestamp)\n",
    "    return data[sample_timestamp_start:sample_timestamp_end]\n",
    "\n",
    "def retrieve_top_n_samples(frame: pl.DataFrame, worst_backgrounds_by_cer, cer_column, n=5):\n",
    "    return frame.filter(pl.col('background').is_in(worst_backgrounds_by_cer))\\\n",
    "        .sort(cer_column, descending=True)\\\n",
    "        .with_columns([\n",
    "            pl.int_range(0, pl.count()).over('background').alias('rank')\n",
    "        ]).filter(pl.col('rank') < n)\\\n",
    "        .drop('rank')\n",
    "\n",
    "def display_top_n_samples(frame, background):\n",
    "    out = widgets.Output(layout={'border': '1px solid black'})\n",
    "    out.append_stdout(f\"==={background.upper()}===\\n\")\n",
    "    for i, row in enumerate(frame.filter(pl.col('background')==background).iter_rows(named=True)):\n",
    "        transcript = row['transcription_prediction_wavlm']\n",
    "        mms_transcript = row['transcription_prediction']\n",
    "        gt_transcript = row['gt_transcript']\n",
    "        recording = retrieve_recording(background, row['nid'], row['timestamp']) \n",
    "        out.append_stdout(f\"{i+1}.\\nScript: {gt_transcript}\\nWavLM: {transcript.lower()}\\nMMS: {mms_transcript}\")\n",
    "        out.append_display_data(ipd.Audio(recording, rate=16000))\n",
    "    return out\n",
    "\n",
    "wavlm_top_n_frame = retrieve_top_n_samples(joined,  wavlm_worst[-5:], 'cer_wavlm')\n",
    "for background in reversed(wavlm_worst[-5:]):\n",
    "    display(display_top_n_samples(wavlm_top_n_frame, background))\n",
    "\n",
    "# retrieve_top_n_samples(wavlm_frame, wavlm_worst)\n",
    "# recording = retrieve_recording(joined['background'][0], joined['nid'][0], joined['timestamp'][0])\n",
    "# retrieve_top_n_samples(wavlm_frame, wavlm_worst[-5:])\n"
   ]
  },
  {
   "cell_type": "markdown",
   "metadata": {},
   "source": [
    "# Analysis\n",
    "\n",
    "[] We see that both models have a propensity to transcribe in a near-phonetic fashion, consider, for example,   \n",
    "    [] Add (at least) one example from each.\n",
    "    [] On the one hand, this seems perhaps appropriate, but... [lingustic racism]\n",
    "    [] Also, English is highly phonetically not transparent, but the model knows how to transcribe it.\n",
    "        [] Also, it doesn't encode phonological distinctions for the native speaker, but does for others?\n",
    "[] Also worth noting that WavLM still gets nearly 2M downloads per month\n"
   ]
  },
  {
   "cell_type": "markdown",
   "metadata": {},
   "source": [
    "# Conclusion\n",
    "\n",
    "[] Can we expect the massive-pretraining to get better at capturing marginalized voices? Or is it more likely that we consider people whose voices are poorly captured as not speaking the language correctly? There are examples of this from scholars..."
   ]
  }
 ],
 "metadata": {
  "kernelspec": {
   "display_name": "mac_env",
   "language": "python",
   "name": "python3"
  },
  "language_info": {
   "codemirror_mode": {
    "name": "ipython",
    "version": 3
   },
   "file_extension": ".py",
   "mimetype": "text/x-python",
   "name": "python",
   "nbconvert_exporter": "python",
   "pygments_lexer": "ipython3",
   "version": "3.8.9"
  }
 },
 "nbformat": 4,
 "nbformat_minor": 2
}
